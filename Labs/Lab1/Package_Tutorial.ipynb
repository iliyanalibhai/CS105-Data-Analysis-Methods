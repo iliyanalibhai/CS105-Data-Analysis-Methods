{
 "cells": [
  {
   "cell_type": "markdown",
   "metadata": {
    "id": "qnZrWQdQmwLL"
   },
   "source": [
    "# Numpy\n",
    "\n",
    "Provides various utilities functions on top of N-dimensional array such statistical calculation (.mean(), .std()) and vectorized operation.\n",
    "\n",
    "A numpy array is a N-dimensional array, all of the same type, and is indexed by nonnegative integers. The number of dimensions is the rank of the array; the shape of an array is a tuple of integers giving the size of the array along each dimension.\n",
    "\n",
    "We can initialize numpy arrays from nested Python lists, and access elements using square brackets:"
   ]
  },
  {
   "cell_type": "code",
   "execution_count": 4,
   "metadata": {
    "id": "EH-7OkSAmwLM",
    "outputId": "6cff8b7a-e28c-4cb2-e2b8-2e23caef62bd"
   },
   "outputs": [
    {
     "name": "stdout",
     "output_type": "stream",
     "text": [
      "[[ 0  1  2  3  4]\n",
      " [ 5  6  7  8  9]\n",
      " [10 11 12 13 14]]\n",
      "Type of a: <class 'numpy.ndarray'>\n",
      "Shape of a: (3, 5)\n",
      "# of dimensions: 2\n",
      "datatype of elements in a: int64\n",
      "# of elements: 15\n",
      "Type of b: <class 'numpy.ndarray'>\n",
      "1st elem in b: 6\n"
     ]
    }
   ],
   "source": [
    "from numpy import *\n",
    "\n",
    "a = arange(15).reshape(3, 5)\n",
    "print (a)\n",
    "\n",
    "print (\"Type of a:\", type(a))\n",
    "print (\"Shape of a:\", a.shape)\n",
    "print (\"# of dimensions:\", a.ndim)\n",
    "print (\"datatype of elements in a:\", a.dtype.name)\n",
    "print (\"# of elements:\", a.size)\n",
    "\n",
    "b = array([6,7,8])\n",
    "print (\"Type of b:\", type(b))\n",
    "\n",
    "print (\"1st elem in b:\", b[0]) # print first element in b "
   ]
  },
  {
   "cell_type": "markdown",
   "metadata": {
    "id": "HTezp5tcmwLa"
   },
   "source": [
    "### Array creation\n",
    "Numpy also provides many functions to create arrays. You can also read more about array creation here : https://docs.scipy.org/doc/numpy/user/basics.creation.html#arrays-creation\n"
   ]
  },
  {
   "cell_type": "code",
   "execution_count": 6,
   "metadata": {
    "id": "IYdqjJTsmwLb",
    "outputId": "6fbc2db2-2f3b-4727-97a4-9d4c85e87c0a"
   },
   "outputs": [
    {
     "name": "stdout",
     "output_type": "stream",
     "text": [
      "a:\n",
      " [[0. 0.]\n",
      " [0. 0.]]\n",
      "b:\n",
      " [[1. 1.]]\n",
      "c:\n",
      " [[7 7]\n",
      " [7 7]]\n",
      "d:\n",
      " [[1. 0.]\n",
      " [0. 1.]]\n",
      "e:\n",
      " [[0.90866717 0.66901383]\n",
      " [0.05582217 0.14192704]]\n"
     ]
    }
   ],
   "source": [
    "import numpy as np\n",
    "a = np.zeros((2,2))   # Create an array of all zeros\n",
    "print (\"a:\\n\", a)\n",
    "\n",
    "b = np.ones((1,2))    # Create an array of all ones\n",
    "print (\"b:\\n\", b)\n",
    "\n",
    "c = np.full((2,2), 7)  # Create an array with a constant\n",
    "print (\"c:\\n\", c)\n",
    "\n",
    "d = np.eye(2)         # Create a 2x2 identity matrix\n",
    "print (\"d:\\n\", d)\n",
    "\n",
    "e = np.random.random((2,2))  # Create an array filled with random values\n",
    "print (\"e:\\n\", e)"
   ]
  },
  {
   "cell_type": "markdown",
   "metadata": {
    "id": "C3RekEe3mwLj"
   },
   "source": [
    "###Array indexing \n",
    "\n",
    "Numpy offers several ways to index into arrays.\n",
    "\n",
    "Slicing: Similar to Python lists, numpy arrays can be sliced. Since arrays may be multidimensional, you must specify a slice for each dimension of the array:"
   ]
  },
  {
   "cell_type": "code",
   "execution_count": null,
   "metadata": {
    "id": "RxUTdMQamwLk"
   },
   "outputs": [],
   "source": [
    "# Create the following rank 2 array with shape (3, 4)\n",
    "# [[ 1  2  3  4]\n",
    "#  [ 5  6  7  8]\n",
    "#  [ 9 10 11 12]]\n",
    "a = np.array([[1,2,3,4], [5,6,7,8], [9,10,11,12]])\n",
    "\n",
    "# Use slicing to pull out the subarray consisting of the first 2 rows\n",
    "# and columns 1 and 2; b is the following array of shape (2, 2):\n",
    "# [[2 3]\n",
    "#  [6 7]]\n",
    "b = a[:2, 1:3]\n",
    "\n",
    "# A slice of an array is a view into the same data, so modifying it\n",
    "# will modify the original array.\n",
    "print(a[0, 1])   # Prints \"2\"\n",
    "b[0, 0] = 77     # b[0, 0] is the same piece of data as a[0, 1]\n",
    "print(a[0, 1])   # Prints \"77\""
   ]
  },
  {
   "cell_type": "markdown",
   "metadata": {
    "id": "H9nPCpMDmwLs"
   },
   "source": [
    "You can also mix integer indexing with slice indexing. However, doing so will yield an array of lower rank than the original array. "
   ]
  },
  {
   "cell_type": "code",
   "execution_count": null,
   "metadata": {
    "id": "1v9XtRdHmwLt"
   },
   "outputs": [],
   "source": [
    "# Create the following rank 2 array with shape (3, 4)\n",
    "# [[ 1  2  3  4]\n",
    "#  [ 5  6  7  8]\n",
    "#  [ 9 10 11 12]]\n",
    "a = np.array([[1,2,3,4], [5,6,7,8], [9,10,11,12]])\n",
    "\n",
    "# Two ways of accessing the data in the middle row of the array.\n",
    "# Mixing integer indexing with slices yields an array of lower rank,\n",
    "# while using only slices yields an array of the same rank as the\n",
    "# original array:\n",
    "row_r1 = a[1, :]    # Rank 1 view of the second row of a\n",
    "row_r2 = a[1:2, :]  # Rank 2 view of the second row of a\n",
    "print(row_r1, row_r1.shape)  # Prints \"[5 6 7 8] (4,)\"\n",
    "print(row_r2, row_r2.shape)  # Prints \"[[5 6 7 8]] (1, 4)\"\n",
    "\n",
    "# We can make the same distinction when accessing columns of an array:\n",
    "col_r1 = a[:, 1]\n",
    "col_r2 = a[:, 1:2]\n",
    "print(col_r1, col_r1.shape)  # Prints \"[ 2  6 10] (3,)\"\n",
    "print(col_r2, col_r2.shape)  # Prints \"[[ 2]\n",
    "                             #          [ 6]\n",
    "                             #          [10]] (3, 1)\""
   ]
  },
  {
   "cell_type": "markdown",
   "metadata": {
    "id": "sA46YZ6VmwLx"
   },
   "source": [
    "### Array math\n",
    "Basic mathematical functions operate elementwise on arrays, and are available both as operator overloads and as functions in the numpy module:"
   ]
  },
  {
   "cell_type": "code",
   "execution_count": 14,
   "metadata": {
    "id": "xAabvo5vmwLx",
    "outputId": "6deeb6a4-fd6a-43e5-dc04-43f36f35964c"
   },
   "outputs": [
    {
     "name": "stdout",
     "output_type": "stream",
     "text": [
      "matrix sum:\n",
      " [[ 6.  8.]\n",
      " [10. 12.]]\n",
      "matrix sum:\n",
      " [[ 6.  8.]\n",
      " [10. 12.]]\n",
      "matrix difference:\n",
      " [[-4. -4.]\n",
      " [-4. -4.]]\n",
      "matrix difference:\n",
      " [[-4. -4.]\n",
      " [-4. -4.]]\n",
      "matrix prodcut:\n",
      " [[ 5. 12.]\n",
      " [21. 32.]]\n",
      "matrix prodcut:\n",
      " [[ 5. 12.]\n",
      " [21. 32.]]\n",
      "matrix division:\n",
      " [[0.2        0.33333333]\n",
      " [0.42857143 0.5       ]]\n",
      "matrix division:\n",
      " [[0.2        0.33333333]\n",
      " [0.42857143 0.5       ]]\n",
      "square root:\n",
      " [[1.         1.41421356]\n",
      " [1.73205081 2.        ]]\n",
      "matrix by scaler:\n",
      " [[2. 4.]\n",
      " [6. 8.]]\n"
     ]
    }
   ],
   "source": [
    "x = np.array([[1,2],[3,4]], dtype=np.float64)\n",
    "y = np.array([[5,6],[7,8]], dtype=np.float64)\n",
    "\n",
    "# Elementwise sum; both produce the array\n",
    "print (\"matrix sum:\\n\", x + y)\n",
    "print (\"matrix sum:\\n\", add(x, y))\n",
    "\n",
    "# Elementwise difference; both produce the array\n",
    "print (\"matrix difference:\\n\", x - y)\n",
    "print (\"matrix difference:\\n\", subtract(x, y))\n",
    "\n",
    "# Elementwise product; both produce the array\n",
    "print (\"matrix prodcut:\\n\", x * y)\n",
    "print (\"matrix prodcut:\\n\", multiply(x, y))\n",
    "\n",
    "# Elementwise division; both produce the array\n",
    "print (\"matrix division:\\n\", x / y)\n",
    "print (\"matrix division:\\n\", divide(x, y))\n",
    "\n",
    "# Elementwise square root; produces the array\n",
    "print (\"square root:\\n\", sqrt(x))\n",
    "\n",
    "# Elementwise product by scaler\n",
    "print (\"matrix by scaler:\\n\", x * 2)\n"
   ]
  },
  {
   "cell_type": "markdown",
   "metadata": {
    "id": "PwC4e73imwLz"
   },
   "source": [
    "### Linear algebra operations "
   ]
  },
  {
   "cell_type": "code",
   "execution_count": 15,
   "metadata": {
    "id": "-MGLQyo8mwL0",
    "outputId": "860a9715-0cfc-46f0-c752-30aba5ddfe62"
   },
   "outputs": [
    {
     "name": "stdout",
     "output_type": "stream",
     "text": [
      "A*B:\n",
      " [[2 0]\n",
      " [0 4]]\n",
      "dot(A,B):\n",
      " [[5 4]\n",
      " [3 4]]\n",
      "a:\n",
      " [[3 3 3]\n",
      " [3 3 3]]\n",
      "b\n",
      ": [[3.91466284 3.86106644 3.03231058]\n",
      " [3.72413523 3.11715881 3.09912061]]\n"
     ]
    }
   ],
   "source": [
    "A = array( [[1,1], [0,1]] )\n",
    "B = array( [[2,0], [3,4]] )\n",
    "\n",
    "print (\"A*B:\\n\", A*B) # elementwise product \n",
    "\n",
    "print (\"dot(A,B):\\n\", dot(A,B)) # matrix product\n",
    "\n",
    "a = ones((2,3), dtype=int) # create matrix all 1s of size 2 x 3\n",
    "b = random.random((2,3)) # create matrix of size 2 x 3, randomly\n",
    "\n",
    "a *= 3 # multiply each element by 3\n",
    "print (\"a:\\n\", a)\n",
    "\n",
    "b += a  # add two matrices, and assign to matrix b\n",
    "print (\"b\\n:\", b)"
   ]
  },
  {
   "cell_type": "code",
   "execution_count": null,
   "metadata": {},
   "outputs": [
    {
     "name": "stdout",
     "output_type": "stream",
     "text": [
      "matrix a:\n",
      " [[0.02311647 0.57805974 0.7549874 ]\n",
      " [0.01164401 0.66389033 0.83172552]]\n",
      "sum:\n",
      " 2.8634234895533126\n",
      "min:\n",
      " 0.011644014125015145\n",
      "max:\n",
      " 0.8317255248269197\n"
     ]
    }
   ],
   "source": [
    "a = random.random((2,3))\n",
    "\n",
    "print (\"matrix a:\\n\", a)\n",
    "\n",
    "print( \"sum:\\n\", a.sum())\n",
    "print( \"min:\\n\",a.min())\n",
    "print( \"max:\\n\",a.max())\n"
   ]
  },
  {
   "cell_type": "code",
   "execution_count": 11,
   "metadata": {},
   "outputs": [
    {
     "name": "stdout",
     "output_type": "stream",
     "text": [
      "v: [2.3207972  2.43310123 2.26953977 ... 2.25596064 1.59136997 1.97391793]\n"
     ]
    },
    {
     "data": {
      "image/png": "[encoded data removed]",
      "text/plain": [
       "<Figure size 640x480 with 1 Axes>"
      ]
     },
     "metadata": {},
     "output_type": "display_data"
    },
    {
     "data": {
      "image/png": "[encoded data removed]",
      "text/plain": [
       "<Figure size 640x480 with 1 Axes>"
      ]
     },
     "metadata": {},
     "output_type": "display_data"
    }
   ],
   "source": [
    "# show histogram of elements in array \n",
    "import numpy\n",
    "import matplotlib.pyplot as plt\n",
    "%matplotlib inline\n",
    "# Build a vector of 10000 normal deviates with variance 0.5^2 and mean 2\n",
    "mu, sigma = 2, 0.5\n",
    "v = numpy.random.normal(mu,sigma,10000)\n",
    "print (\"v:\", v)\n",
    "\n",
    "# Plot a normalized histogram with 50 bins\n",
    "plt.hist(v, bins=50)      \n",
    "plt.show()\n",
    "\n",
    "# Compute the histogram with numpy and then plot it\n",
    "(n, bins) = numpy.histogram(v, bins=50)  # NumPy version (no plot)\n",
    "plt.plot(.5*(bins[1:]+bins[:-1]), n)\n",
    "plt.show()"
   ]
  },
  {
   "cell_type": "code",
   "execution_count": null,
   "metadata": {},
   "outputs": [],
   "source": []
  }
 ],
 "metadata": {
  "colab": {
   "name": "Numpy Pandas Tutorial.ipynb",
   "provenance": []
  },
  "kernelspec": {
   "display_name": "Python 3",
   "language": "python",
   "name": "python3"
  },
  "language_info": {
   "codemirror_mode": {
    "name": "ipython",
    "version": 3
   },
   "file_extension": ".py",
   "mimetype": "text/x-python",
   "name": "python",
   "nbconvert_exporter": "python",
   "pygments_lexer": "ipython3",
   "version": "3.11.4"
  }
 },
 "nbformat": 4,
 "nbformat_minor": 4
}
