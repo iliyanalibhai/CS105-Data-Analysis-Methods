{
  "cells": [
    {
      "cell_type": "markdown",
      "metadata": {
        "id": "pB6X4Cs0ovvn"
      },
      "source": [
        "# Shark Tank\n",
        "\n",
        "_Shark Tank_ is a reality TV show. Contestants present their idea for a company to a panel of investors (a.k.a. \"sharks\"), who then decide whether or not to invest in that company.  The investors give a certain amount of money in exchange for a percentage stake in the company (\"equity\"). If you are not familiar with the show, you may want to watch part of an episode [here](https://www.youtube.com/watch?v=3VBmLGUDxWA) to get a sense of how it works.  You can also search for a clip on YouTube.\n",
        "\n",
        "The data that you will examine in this lab contains data about all contestants from the first 6 seasons of the show, including:\n",
        "- the name and industry of the proposed company\n",
        "- whether or not it was funded (i.e., the \"Deal\" column)\n",
        "- which sharks chose to invest in the venture (N.B. There are 7 regular sharks, not including \"Guest\". Each shark has a column in the data set, labeled by their last name.)\n",
        "- if funded, the amount of money the sharks put in and the percentage equity they got in return\n",
        "\n",
        "To earn full credit on this lab, you should:\n",
        "- use built-in `pandas` methods (like `.sum()` and `.max()`) instead of writing a for loop over a `DataFrame` or `Series`\n",
        "- use the split-apply-combine pattern wherever possible\n",
        "\n",
        "Of course, if you can't think of a vectorized solution, a `for` loop is still better than no solution at all!"
      ]
    },
    {
      "cell_type": "code",
      "execution_count": null,
      "metadata": {
        "id": "Us6oobKlovvp"
      },
      "outputs": [],
      "source": [
        "import pandas as pd"
      ]
    },
    {
      "cell_type": "markdown",
      "metadata": {
        "id": "ngi3x0nmovvw"
      },
      "source": [
        "## Question 0. Getting and Cleaning the Data"
      ]
    },
    {
      "cell_type": "markdown",
      "metadata": {
        "id": "qg5b6rHFovvw"
      },
      "source": [
        "The data is stored in the CSV file `sharktank.csv`. Read in the data into a Pandas `DataFrame`."
      ]
    },
    {
      "cell_type": "code",
      "execution_count": null,
      "metadata": {
        "id": "arHQniiLovvy"
      },
      "outputs": [],
      "source": [
        "# YOUR CODE HERE"
      ]
    },
    {
      "cell_type": "markdown",
      "metadata": {
        "id": "Ie2pafAbovv3"
      },
      "source": [
        "There is one column for each of the sharks. A 1 indicates that they chose to invest in that company, while a missing value indicates that they did not choose to invest in that company. Notice that these missing values show up as NaNs when we read in the data. Fill in these missing values with zeros. Other columns may also contain NaNs; be careful not to fill those columns with zeros, or you may end up with strange results down the line."
      ]
    },
    {
      "cell_type": "code",
      "execution_count": null,
      "metadata": {
        "id": "w6KKp8u1ovv7"
      },
      "outputs": [],
      "source": [
        "# YOUR CODE HERE"
      ]
    },
    {
      "cell_type": "markdown",
      "metadata": {
        "id": "jzFqjoaYovv_"
      },
      "source": [
        "Notice that Amount and Equity are currently being treated as categorical variables (`dtype: object`). Can you figure out why this is? Clean up these columns and cast them to numeric types (i.e., a `dtype` of `int` or `float`) because we'll need to perform mathematical operations on these columns."
      ]
    },
    {
      "cell_type": "code",
      "execution_count": null,
      "metadata": {
        "id": "HQjnkHrZovwA"
      },
      "outputs": [],
      "source": [
        "# YOUR CODE HERE"
      ]
    },
    {
      "cell_type": "markdown",
      "metadata": {
        "id": "MY8G1ZuRovwE"
      },
      "source": [
        "## Question 1. Which Company was Worth the Most?"
      ]
    },
    {
      "cell_type": "markdown",
      "metadata": {
        "id": "VuyDKd9LovwE"
      },
      "source": [
        "The valuation of a company is how much it is worth. If someone invests \\\\$10,000 for a 40\\% equity stake in the company, then this means the company must be valued at \\$25,000, since 40% of \\\\$25,000 is \\\\$10,000.\n",
        "\n",
        "Calculate the valuation of each company that was funded. Which company was most valuable? Is it the same as the company that received the largest total investment from the sharks?"
      ]
    },
    {
      "cell_type": "code",
      "execution_count": null,
      "metadata": {
        "id": "9_mHDH2novwF"
      },
      "outputs": [],
      "source": [
        "# YOUR CODE HERE"
      ]
    },
    {
      "cell_type": "markdown",
      "metadata": {
        "id": "RQw_4omBovwK"
      },
      "source": [
        "**YOUR EXPLANATION HERE**"
      ]
    },
    {
      "cell_type": "markdown",
      "metadata": {
        "id": "deHlRRDoovwK"
      },
      "source": [
        "## Question 2. Which Shark Invested the Most?"
      ]
    },
    {
      "cell_type": "markdown",
      "metadata": {
        "id": "snpYXOcOovwM"
      },
      "source": [
        "Calculate the total amount of money that each shark invested over the 6 seasons. Which shark invested the most total money over the 6 seasons?\n",
        "\n",
        "_Hint:_ If $n$ sharks funded a given venture, then the amount that each shark invested is the total amount divided by $n$."
      ]
    },
    {
      "cell_type": "code",
      "execution_count": null,
      "metadata": {
        "id": "1UZfCn-2ovwO"
      },
      "outputs": [],
      "source": [
        "# ENTER CODE HERE."
      ]
    },
    {
      "cell_type": "markdown",
      "metadata": {
        "id": "nAgPUDFKovwR"
      },
      "source": [
        "**YOUR EXPLANATION HERE**"
      ]
    },
    {
      "cell_type": "markdown",
      "metadata": {
        "id": "3vN86vhHovwS"
      },
      "source": [
        "## Question 3. Do the Sharks Prefer Certain Industries?\n",
        "\n",
        "Calculate the funding rate (the proportion of companies that were funded) for each industry. Make a visualization showing this information."
      ]
    },
    {
      "cell_type": "code",
      "execution_count": null,
      "metadata": {
        "id": "HoeI9g5NovwT"
      },
      "outputs": [],
      "source": [
        "# ENTER CODE HERE."
      ]
    },
    {
      "cell_type": "markdown",
      "metadata": {
        "id": "Kl12YJvOovwa"
      },
      "source": [
        "**YOUR EXPLANATION HERE**"
      ]
    },
    {
      "cell_type": "markdown",
      "metadata": {
        "id": "KaVqM_7xovwc"
      },
      "source": [
        "## Submission Instructions\n",
        "\n",
        "Once you are finished, follow these steps:\n",
        "\n",
        "1. Restart the kernel and re-run this notebook from beginning to end by going to `Kernel > Restart Kernel and Run All Cells`.\n",
        "\n",
        "2. If this process stops halfway through, that means there was an error. Correct the error and repeat Step 1 until the notebook runs from beginning to end.\n",
        "\n",
        "3. Double check that there is a number next to each code cell and that these numbers are in order.\n",
        "\n",
        "Then, submit your lab as follows:\n",
        "\n",
        "1. Go to `File > Export Notebook As > PDF`.\n",
        "\n",
        "2. Double check that the entire notebook, from beginning to end, is in this PDF file. (If the notebook is cut off, try first exporting the notebook to HTML and printing to PDF.)\n",
        "\n",
        "3. Upload the Notebook (ipynb) to canvas (one submission per group).\n",
        "\n",
        "4. Demo your lab by next Tuesday for full credit."
      ]
    }
  ],
  "metadata": {
    "colab": {
      "provenance": []
    },
    "kernelspec": {
      "display_name": "Python 3",
      "language": "python",
      "name": "python3"
    },
    "language_info": {
      "codemirror_mode": {
        "name": "ipython",
        "version": 3
      },
      "file_extension": ".py",
      "mimetype": "text/x-python",
      "name": "python",
      "nbconvert_exporter": "python",
      "pygments_lexer": "ipython3",
      "version": "3.8.3"
    }
  },
  "nbformat": 4,
  "nbformat_minor": 0
}